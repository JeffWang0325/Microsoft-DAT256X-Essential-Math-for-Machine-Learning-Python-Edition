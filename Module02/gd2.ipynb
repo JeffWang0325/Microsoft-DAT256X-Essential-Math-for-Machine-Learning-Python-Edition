{
 "cells": [
  {
   "cell_type": "code",
   "execution_count": 2,
   "metadata": {},
   "outputs": [],
   "source": [
    "# %matplotlib inline\n",
    "import numpy as np\n",
    "\n",
    "import matplotlib.pyplot as plt\n",
    "from numpy import diff"
   ]
  },
  {
   "cell_type": "code",
   "execution_count": 5,
   "metadata": {},
   "outputs": [],
   "source": [
    "# 目標函數\n",
    "def func(x): return (x**3) - (2*x) + 100\n",
    "\n",
    "# 目標函數一階導數:dy/dx\n",
    "def dfunc(x): return 3*(x**2) - 2\n",
    "\n",
    "def GD(x_start, df, epochs:int, lr):    \n",
    "    \"\"\"  梯度下降法。給定起始點與目標函數的一階導函數，求在epochs次反覆運算中x的更新值\n",
    "        :param x_start: x的起始點    \n",
    "        :param df: 目標函數的一階導函數    \n",
    "        :param epochs: 反覆運算週期    \n",
    "        :param lr: 學習率    \n",
    "        :return: x在每次反覆運算後的位置（包括起始點），長度為epochs+1    \n",
    "    \"\"\"    \n",
    "    xs = np.zeros(epochs+1)    \n",
    "    x = x_start    \n",
    "    xs[0] = x\n",
    "    for i in range(epochs):  \n",
    "        print('epoch {}: x={}, df(x)={}'.format(i + 1, x, df(x)))\n",
    "        dx = df(x)        \n",
    "        if dx <= -100 or dx >= 100:\n",
    "#             index = list(range(i + 1, epochs + 1, 1))\n",
    "            index = np.array(range(i + 1, epochs + 1, 1))\n",
    "            print('len(xs) = ' + str(len(xs)))\n",
    "            xs = np.delete(xs, index) # 沒有指派，則 xs 保持原始大小!\n",
    "            print('len(xs) = ' + str(len(xs)))\n",
    "            print('break')\n",
    "            break\n",
    "        # v表示x要改變的幅度        \n",
    "        v = - dx * lr        \n",
    "        x += v        \n",
    "        xs[i+1] = x    \n",
    "    return xs"
   ]
  },
  {
   "cell_type": "code",
   "execution_count": 3,
   "metadata": {},
   "outputs": [
    {
     "name": "stdout",
     "output_type": "stream",
     "text": [
      "<class 'list'>\n",
      "[1 2 5 6 8 9]\n"
     ]
    }
   ],
   "source": [
    "np.delete?\n",
    "\n",
    "import numpy as np\n",
    "a = np.array([1, 2, 3, 4, 5, 6, 7, 8, 9])\n",
    "index = [2, 3, 6]\n",
    "print(type(index))\n",
    "new_a = np.delete(a, index)\n",
    "\n",
    "print(new_a)"
   ]
  },
  {
   "cell_type": "code",
   "execution_count": 7,
   "metadata": {},
   "outputs": [
    {
     "name": "stdout",
     "output_type": "stream",
     "text": [
      "epoch 1: x=-1, df(x)=1\n",
      "epoch 2: x=-1.03, df(x)=1.1826999999999996\n",
      "epoch 3: x=-1.0654810000000001, df(x)=1.4057492840830008\n",
      "epoch 4: x=-1.10765347852249, df(x)=1.6806886854489171\n",
      "epoch 5: x=-1.1580741390859577, df(x)=2.0234071348590463\n",
      "epoch 6: x=-1.218776353131729, df(x)=2.456247396859231\n",
      "epoch 7: x=-1.2924637750375059, df(x)=3.0113878293526017\n",
      "epoch 8: x=-1.382805409918084, df(x)=3.736452405096161\n",
      "epoch 9: x=-1.4948989820709688, df(x)=4.7041688997904565\n",
      "epoch 10: x=-1.6360240490646825, df(x)=6.029724067353996\n",
      "epoch 11: x=-1.8169157710853023, df(x)=7.903548757655496\n",
      "epoch 12: x=-2.054022233814967, df(x)=10.657022011018682\n",
      "epoch 13: x=-2.373732894145528, df(x)=14.903823558245513\n",
      "epoch 14: x=-2.8208476008928933, df(x)=21.871543562389576\n",
      "epoch 15: x=-3.4769939077645806, df(x)=34.26845990389602\n",
      "epoch 16: x=-4.505047704881461, df(x)=58.88636446977316\n",
      "epoch 17: x=-6.271638638974656, df(x)=116.0003536536396\n",
      "len(xs) = 1501\n",
      "len(xs) = 17\n",
      "break\n",
      "[-1.         -1.03       -1.065481   -1.10765348 -1.15807414 -1.21877635\n",
      " -1.29246378 -1.38280541 -1.49489898 -1.63602405 -1.81691577 -2.05402223\n",
      " -2.37373289 -2.8208476  -3.47699391 -4.5050477  -6.27163864]\n"
     ]
    },
    {
     "data": {
      "image/png": "[encoded data removed]",
      "text/plain": [
       "<Figure size 720x576 with 1 Axes>"
      ]
     },
     "metadata": {
      "needs_background": "light"
     },
     "output_type": "display_data"
    }
   ],
   "source": [
    "# Main\n",
    "# 起始權重\n",
    "x_start = -1 # 5 -1    \n",
    "# 執行週期數\n",
    "epochs = 1500\n",
    "# 學習率   \n",
    "lr = 0.03 # 0.03, 0.5\n",
    "# 梯度下降法 \n",
    "# *** Function 可以直接當參數傳遞 ***\n",
    "x = GD(x_start, dfunc, epochs, lr) \n",
    "print (x)\n",
    "# 輸出：[-5.     -2.     -0.8    -0.32   -0.128  -0.0512]\n",
    "\n",
    "color = 'r'\n",
    "plt.figure(figsize = (10, 8))  \n",
    "from numpy import arange\n",
    "t = arange(-6.0, 6.0, 0.01)\n",
    "plt.plot(t, func(t), c='b', label='func')\n",
    "plt.grid()\n",
    "\n",
    "y = func(x)\n",
    "plt.plot(x, y, c=color, label='lr={}'.format(lr))    \n",
    "plt.scatter(x, y, c=color, label='lr={}'.format(lr))\n",
    "plt.legend(loc = 'upper left')\n",
    "\n",
    "plt.axhline(c = 'g')\n",
    "plt.axvline(c = 'g')\n",
    "plt.show()"
   ]
  }
 ],
 "metadata": {
  "kernelspec": {
   "display_name": "Python 3",
   "language": "python",
   "name": "python3"
  },
  "language_info": {
   "codemirror_mode": {
    "name": "ipython",
    "version": 3
   },
   "file_extension": ".py",
   "mimetype": "text/x-python",
   "name": "python",
   "nbconvert_exporter": "python",
   "pygments_lexer": "ipython3",
   "version": "3.8.3"
  }
 },
 "nbformat": 4,
 "nbformat_minor": 2
}
