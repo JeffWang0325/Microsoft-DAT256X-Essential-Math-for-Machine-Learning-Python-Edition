{
 "cells": [
  {
   "cell_type": "markdown",
   "metadata": {},
   "source": [
    "# Introduction to Integration\n",
    "\n",
    "Integrals are the inverses of derivatives. More importantly, using integration provides a way to compute the area under the curve of most any function. There are many applications for integration. For example, if you need to compute a probability of some occurance between limits (which we'll discuss later in this course), then you will use an integral.\n",
    "\n",
    "Let's start with a simple function:\n",
    "\n",
    "$$f(x)=x$$\n",
    "\n",
    "We can plot this function as a line. Run the code below to plot the function for the range 0 to 10:"
   ]
  },
  {
   "cell_type": "code",
   "execution_count": 35,
   "metadata": {},
   "outputs": [
    {
     "name": "stdout",
     "output_type": "stream",
     "text": [
      "<class 'range'>\n",
      "<class 'list'>\n"
     ]
    },
    {
     "data": {
      "image/png": "[encoded data removed]",
      "text/plain": [
       "<Figure size 432x288 with 1 Axes>"
      ]
     },
     "metadata": {
      "needs_background": "light"
     },
     "output_type": "display_data"
    }
   ],
   "source": [
    "import numpy as np\n",
    "from matplotlib import pyplot as plt\n",
    "# %matplotlib inline\n",
    "\n",
    "# Define function f\n",
    "def f(x):\n",
    "    return x\n",
    "\n",
    "# Create an array of x values from 0 to 10\n",
    "x = range(0, 11)\n",
    "print(type(x))\n",
    "\n",
    "# Get the corresponding y values from the function\n",
    "y = [f(a) for a in x]\n",
    "print(type(y))\n",
    "\n",
    "# Set up the plot\n",
    "plt.xlabel('x')\n",
    "plt.ylabel('f(x)')\n",
    "plt.grid()\n",
    "\n",
    "# Plot x against f(x)\n",
    "plt.plot(x, y, color='purple')\n",
    "\n",
    "plt.show()"
   ]
  },
  {
   "cell_type": "markdown",
   "metadata": {},
   "source": [
    "## Performing Integration\n",
    "\n",
    "The *integral* of a function is the area under it - in this case, the area under the purple diagonal line down to the x-axis.\n",
    "\n",
    "So how do you find the integral of a function? well, for our simple function $f(x) = x$, the formula for an integral is written as follows:\n",
    "\n",
    "$$\\int f(x)\\;dx$$\n",
    "\n",
    "The $\\int$ symbol shows that this formula is an integral. The $dx$ indicates that the integration is with respect to the $x$ variable. Note that since $f(x) = x$, we could also write this integral formula as $\\int x\\;dx$\n",
    "\n",
    "So, what  is the integral of $x\\ dx$? To answer this question, we need the *antiderivative* of ***f*** - in other words we need to find a function which has a derivative matching the output of $f$, which is just $x$. Using the power rule in reverse, a function that has the derivative $x$ would be $\\frac{1}{2} x^2$\n",
    "\n",
    "So, the *unbound* integral formula for $f$ with respect to $x$ can be written as:\n",
    "\n",
    "$$\\int f(x)\\;dx = \\frac{1}{2} x^2$$"
   ]
  },
  {
   "cell_type": "markdown",
   "metadata": {},
   "source": [
    "## Integration between Limits\n",
    "\n",
    "Now that we have the unbound integral formula, we can use it to find the integral between specific start and end points. Let's suppose we want to find the area under the function between the $x$ values 0 and 2. In other words, the *integral* of $f$ for the range 0 to 2 with respect to $x$.\n",
    "\n",
    "Run the following code to re-plot the function and show the area we're interested in:"
   ]
  },
  {
   "cell_type": "code",
   "execution_count": 38,
   "metadata": {},
   "outputs": [
    {
     "name": "stdout",
     "output_type": "stream",
     "text": [
      "<class 'numpy.ndarray'>\n",
      "[0.   0.05 0.1  0.15 0.2  0.25 0.3  0.35 0.4  0.45 0.5  0.55 0.6  0.65\n",
      " 0.7  0.75 0.8  0.85 0.9  0.95 1.   1.05 1.1  1.15 1.2  1.25 1.3  1.35\n",
      " 1.4  1.45 1.5  1.55 1.6  1.65 1.7  1.75 1.8  1.85 1.9  1.95]\n"
     ]
    },
    {
     "data": {
      "image/png": "[encoded data removed]",
      "text/plain": [
       "<Figure size 432x288 with 1 Axes>"
      ]
     },
     "metadata": {
      "needs_background": "light"
     },
     "output_type": "display_data"
    }
   ],
   "source": [
    "# Set up the plot\n",
    "plt.xlabel('x')\n",
    "plt.ylabel('f(x)')\n",
    "plt.grid()\n",
    "\n",
    "# Plot x against f(x)\n",
    "plt.plot(x, y, color='purple')\n",
    "\n",
    "# show area for integral\n",
    "section = np.arange(0, 2, 1/20)\n",
    "# section = np.arange(0, 2, 0.5)\n",
    "print(type(section))\n",
    "print(section)\n",
    "# plt.fill_between?\n",
    "plt.fill_between(section, f(section), color='orange')\n",
    "# plt.fill_between([0, 4], [0, 8], color='orange')\n",
    "\n",
    "plt.show()"
   ]
  },
  {
   "cell_type": "markdown",
   "metadata": {},
   "source": [
    "We call the start and end point the **limits** of the integral. The lower limit is placed as a subscript of the integral sign. The upper limit is placed as a superscript of the integral sign. Using this notation the integral of $f(x)$ from $0$ to $2$ is written as follows:\n",
    "\n",
    "$$\\int_0^2 f(x)\\;dx$$\n",
    "\n",
    "The integral is evaluated by subtracting the value of the integrand at the lower limit from the integrand at the upper limit; and since we know the formula based on our antiderivative function, the integral can be evaluated in the following manner.\n",
    "\n",
    "$$\\int_0^2 f(x)\\;dx\\\\ = \\frac{1}{2} x^2\\ \\big|_0^2\\\\\n",
    "= \\frac{1}{2} 2^2 - \\frac{1}{2} 0^2\\\\\n",
    "= \\frac{4}{2} - \\frac{0}{2} x^2\\\\ = 2$$"
   ]
  },
  {
   "cell_type": "markdown",
   "metadata": {},
   "source": [
    "Execute the code in the cell below and verify that the result returned by the ***scipy.integrate.quad*** function in Python is approximately the same as we computed analytically. "
   ]
  },
  {
   "cell_type": "code",
   "execution_count": 7,
   "metadata": {},
   "outputs": [
    {
     "name": "stdout",
     "output_type": "stream",
     "text": [
      "9\n",
      "49\n"
     ]
    }
   ],
   "source": [
    "def g(x):\n",
    "    return x ** 2\n",
    "\n",
    "lambdaFun = lambda x: g(x + 2)\n",
    "print(lambdaFun(1))\n",
    "print(lambdaFun(5))"
   ]
  },
  {
   "cell_type": "code",
   "execution_count": 10,
   "metadata": {},
   "outputs": [
    {
     "name": "stdout",
     "output_type": "stream",
     "text": [
      "2.0 2.220446049250313e-14\n"
     ]
    }
   ],
   "source": [
    "import scipy.integrate as integrate\n",
    "integrate.quad?\n",
    "i, e = integrate.quad(lambda x: f(x), 0, 2) # Compute a definite integral. (定積分)\n",
    "print (i, e)"
   ]
  },
  {
   "cell_type": "code",
   "execution_count": 15,
   "metadata": {},
   "outputs": [
    {
     "data": {
      "text/plain": [
       "(inf, -inf, inf, nan, inf)"
      ]
     },
     "execution_count": 15,
     "metadata": {},
     "output_type": "execute_result"
    }
   ],
   "source": [
    "import numpy as np\n",
    "np.inf, -np.inf, abs(-np.inf), np.inf - np.inf, np.inf + 2"
   ]
  },
  {
   "cell_type": "code",
   "execution_count": 16,
   "metadata": {},
   "outputs": [
    {
     "name": "stdout",
     "output_type": "stream",
     "text": [
      "0.4999999961769933 5.7336234760563265e-06\n"
     ]
    },
    {
     "name": "stderr",
     "output_type": "stream",
     "text": [
      "<ipython-input-16-d6ee96fd263a>:1: IntegrationWarning: The integral is probably divergent, or slowly convergent.\n",
      "  i, e = integrate.quad(lambda x: f(x), 0, np.inf)\n"
     ]
    }
   ],
   "source": [
    "i, e = integrate.quad(lambda x: f(x), 0, np.inf)\n",
    "print(i, e)"
   ]
  },
  {
   "cell_type": "markdown",
   "metadata": {},
   "source": [
    "## Another Integral\n",
    "\n",
    "Here is another example for a slightly more complex function. What is the area under the curve of the function $3x^2 + 2x + 1$ between $0$ and $3$?\n",
    "\n",
    "let's look at that function and the area in question:"
   ]
  },
  {
   "cell_type": "code",
   "execution_count": 44,
   "metadata": {},
   "outputs": [
    {
     "name": "stdout",
     "output_type": "stream",
     "text": [
      "<class 'matplotlib.figure.Figure'> <class 'matplotlib.axes._subplots.AxesSubplot'>\n",
      "<class 'numpy.ndarray'> 50\n",
      "[0.         0.06122449 0.12244898 0.18367347 0.24489796 0.30612245\n",
      " 0.36734694 0.42857143 0.48979592 0.55102041 0.6122449  0.67346939\n",
      " 0.73469388 0.79591837 0.85714286 0.91836735 0.97959184 1.04081633\n",
      " 1.10204082 1.16326531 1.2244898  1.28571429 1.34693878 1.40816327\n",
      " 1.46938776 1.53061224 1.59183673 1.65306122 1.71428571 1.7755102\n",
      " 1.83673469 1.89795918 1.95918367 2.02040816 2.08163265 2.14285714\n",
      " 2.20408163 2.26530612 2.32653061 2.3877551  2.44897959 2.51020408\n",
      " 2.57142857 2.63265306 2.69387755 2.75510204 2.81632653 2.87755102\n",
      " 2.93877551 3.        ]\n",
      "-----list(zip(ix, iy))-----\n",
      "[(0.0, 1.0), (0.061224489795918366, 1.1336942940441483), (0.12244897959183673, 1.2898792169929196), (0.18367346938775508, 1.4685547688463139), (0.24489795918367346, 1.6697209496043315), (0.30612244897959184, 1.893377759266972), (0.36734693877551017, 2.1395251978342356), (0.42857142857142855, 2.4081632653061225), (0.4897959183673469, 2.6992919616826323), (0.5510204081632653, 3.0129112869637646), (0.6122448979591837, 3.3490212411495213), (0.673469387755102, 3.7076218242399), (0.7346938775510203, 4.088713036234902), (0.7959183673469388, 4.492294877134527), (0.8571428571428571, 4.918367346938775), (0.9183673469387755, 5.366930445647647), (0.9795918367346939, 5.837984173261141), (1.0408163265306123, 6.331528529779259), (1.1020408163265305, 6.847563515201998), (1.163265306122449, 7.386089129529363), (1.2244897959183674, 7.947105372761349), (1.2857142857142856, 8.530612244897958), (1.346938775510204, 9.136609745939191), (1.4081632653061225, 9.765097875885047), (1.4693877551020407, 10.416076634735525), (1.530612244897959, 11.089546022490628), (1.5918367346938775, 11.785506039150352), (1.653061224489796, 12.503956684714703), (1.7142857142857142, 13.244897959183673), (1.7755102040816326, 14.008329862557268), (1.836734693877551, 14.794252394835485), (1.8979591836734693, 15.602665556018325), (1.9591836734693877, 16.433569346105788), (2.020408163265306, 17.286963765097873), (2.0816326530612246, 18.16284881299459), (2.142857142857143, 19.061224489795915), (2.204081632653061, 19.98209079550187), (2.2653061224489797, 20.925447730112452), (2.326530612244898, 21.891295293627657), (2.387755102040816, 22.879633486047474), (2.4489795918367347, 23.890462307371926), (2.510204081632653, 24.923781757600995), (2.571428571428571, 25.979591836734688), (2.63265306122449, 27.05789254477301), (2.693877551020408, 28.15868388171595), (2.7551020408163263, 29.281965847563512), (2.816326530612245, 30.4277384423157), (2.877551020408163, 31.59600166597251), (2.9387755102040813, 32.78675551853394), (3.0, 34.0)]\n",
      "-----verts-----\n",
      "<class 'list'> 52 (52, 2)\n",
      "[(0, 0), (0.0, 1.0), (0.061224489795918366, 1.1336942940441483), (0.12244897959183673, 1.2898792169929196), (0.18367346938775508, 1.4685547688463139), (0.24489795918367346, 1.6697209496043315), (0.30612244897959184, 1.893377759266972), (0.36734693877551017, 2.1395251978342356), (0.42857142857142855, 2.4081632653061225), (0.4897959183673469, 2.6992919616826323), (0.5510204081632653, 3.0129112869637646), (0.6122448979591837, 3.3490212411495213), (0.673469387755102, 3.7076218242399), (0.7346938775510203, 4.088713036234902), (0.7959183673469388, 4.492294877134527), (0.8571428571428571, 4.918367346938775), (0.9183673469387755, 5.366930445647647), (0.9795918367346939, 5.837984173261141), (1.0408163265306123, 6.331528529779259), (1.1020408163265305, 6.847563515201998), (1.163265306122449, 7.386089129529363), (1.2244897959183674, 7.947105372761349), (1.2857142857142856, 8.530612244897958), (1.346938775510204, 9.136609745939191), (1.4081632653061225, 9.765097875885047), (1.4693877551020407, 10.416076634735525), (1.530612244897959, 11.089546022490628), (1.5918367346938775, 11.785506039150352), (1.653061224489796, 12.503956684714703), (1.7142857142857142, 13.244897959183673), (1.7755102040816326, 14.008329862557268), (1.836734693877551, 14.794252394835485), (1.8979591836734693, 15.602665556018325), (1.9591836734693877, 16.433569346105788), (2.020408163265306, 17.286963765097873), (2.0816326530612246, 18.16284881299459), (2.142857142857143, 19.061224489795915), (2.204081632653061, 19.98209079550187), (2.2653061224489797, 20.925447730112452), (2.326530612244898, 21.891295293627657), (2.387755102040816, 22.879633486047474), (2.4489795918367347, 23.890462307371926), (2.510204081632653, 24.923781757600995), (2.571428571428571, 25.979591836734688), (2.63265306122449, 27.05789254477301), (2.693877551020408, 28.15868388171595), (2.7551020408163263, 29.281965847563512), (2.816326530612245, 30.4277384423157), (2.877551020408163, 31.59600166597251), (2.9387755102040813, 32.78675551853394), (3.0, 34.0), (3, 0)]\n",
      "------------------------------\n",
      "[5 6 7]\n"
     ]
    },
    {
     "data": {
      "image/png": "[encoded data removed]",
      "text/plain": [
       "<Figure size 432x288 with 1 Axes>"
      ]
     },
     "metadata": {
      "needs_background": "light"
     },
     "output_type": "display_data"
    }
   ],
   "source": [
    "import numpy as np\n",
    "from matplotlib import pyplot as plt\n",
    "from matplotlib.patches import Polygon\n",
    "# %matplotlib inline\n",
    "\n",
    "# Define function g\n",
    "def g(x):\n",
    "    return 3 * x**2 + 2 * x + 1\n",
    "\n",
    "# Create an array of x values from 0 to 10\n",
    "x = range(0, 11)\n",
    "\n",
    "# Get the corresponding y values from the function\n",
    "y = [g(a) for a in x]\n",
    "\n",
    "# Set up the plot\n",
    "fig, ax = plt.subplots()\n",
    "print(type(fig), type(ax))\n",
    "# plt.xticks?\n",
    "plt.xticks(range(0, 11), fontsize=20, color = 'b')\n",
    "# plt.xticks(range(0, 11), size=20, color = 'b')\n",
    "plt.xlabel('x', fontdict = {'color': 'r', 'size': 20})\n",
    "plt.ylabel('f(x)', fontdict = {'color': 'r', 'size': 20})\n",
    "plt.grid()\n",
    "\n",
    "# Plot x against g(x)\n",
    "plt.plot(x, y, color='purple')\n",
    "\n",
    "\n",
    "\n",
    "### Make the shaded region\n",
    "\n",
    "# Method 1\n",
    "# np.linspace?\n",
    "ix = np.linspace(0, 3) # Default: num=50\n",
    "# ix = np.linspace(0, 3, num=3)\n",
    "# ix = np.linspace(0, 3, num=2)\n",
    "print(type(ix), len(ix))\n",
    "print(ix)\n",
    "iy = g(ix)\n",
    "print('-----list(zip(ix, iy))-----')\n",
    "print(list(zip(ix, iy)))\n",
    "verts = [(0, 0)] + list(zip(ix, iy)) + [(3, 0)]\n",
    "# verts = list(zip(ix, iy))\n",
    "print('-----verts-----')\n",
    "print(type(verts), len(verts), np.array(verts).shape)\n",
    "print(verts)\n",
    "print('-' * 30)\n",
    "# Polygon?\n",
    "poly = Polygon(verts, facecolor='orange')\n",
    "# poly = Polygon(verts, closed = False, facecolor='orange')\n",
    "# ax.add_patch?\n",
    "ax.add_patch(poly)\n",
    "\n",
    "# Method 2\n",
    "section = np.arange(5, 8, 1)\n",
    "print(section)\n",
    "plt.fill_between(section, g(section), color='g')\n",
    "\n",
    "plt.show()"
   ]
  },
  {
   "cell_type": "code",
   "execution_count": 45,
   "metadata": {},
   "outputs": [],
   "source": [
    "zip?"
   ]
  },
  {
   "cell_type": "markdown",
   "metadata": {},
   "source": [
    "## Python3 zip() 函数\n",
    "https://www.runoob.com/python3/python3-func-zip.html"
   ]
  },
  {
   "cell_type": "code",
   "execution_count": 52,
   "metadata": {},
   "outputs": [
    {
     "name": "stdout",
     "output_type": "stream",
     "text": [
      "<zip object at 0x0000020344E96200>\n",
      "[(1, 4), (2, 5), (3, 6)]\n",
      "[(1, 4), (2, 5), (3, 6)]\n",
      "------------------------------\n",
      "(3, 2)\n",
      "[[1 4]\n",
      " [2 5]\n",
      " [3 6]]\n",
      "------------------------------\n",
      "<class 'tuple'>\n",
      "[1, 2, 3]\n",
      "[4, 5, 6]\n"
     ]
    }
   ],
   "source": [
    "import numpy as np\n",
    "\n",
    "a = [1, 2, 3]\n",
    "b = [4, 5, 6]\n",
    "c = [4, 5, 6, 7, 8]\n",
    "zipped = zip(a, b) # 返回一个对象\n",
    "print(zipped)\n",
    "\n",
    "print(list(zipped)) # list() 转换为列表\n",
    "print(list(zip(a, c))) # 元素个数与最短的列表一致\n",
    "print('-' * 30)\n",
    "\n",
    "# listZipped = list(zip(np.array(a), np.array(b)))\n",
    "listZipped = list(zip(a, b))\n",
    "# listZipped = list(zipped)\n",
    "print(np.array(listZipped).shape)\n",
    "print(np.array(listZipped))\n",
    "print('-' * 30)\n",
    "\n",
    "a1, a2 = zip(*zip(a, b)) # 与 zip 相反，zip(*) 可理解为解压，返回二维矩阵式\n",
    "print(type(a1))\n",
    "print(list(a1))\n",
    "print(list(a2))"
   ]
  },
  {
   "cell_type": "markdown",
   "metadata": {},
   "source": [
    "## Python zip() 函数\n",
    "https://www.runoob.com/python/python-func-zip.html"
   ]
  },
  {
   "cell_type": "code",
   "execution_count": 56,
   "metadata": {
    "scrolled": true
   },
   "outputs": [
    {
     "name": "stdout",
     "output_type": "stream",
     "text": [
      "<class 'tuple'>\n",
      "('flower',)\n",
      "<class 'tuple'>\n",
      "('flow',)\n",
      "<class 'tuple'>\n",
      "('flight',)\n",
      "------------------------------\n",
      "<class 'tuple'>\n",
      "('f', 'f', 'f')\n",
      "<class 'tuple'>\n",
      "('l', 'l', 'l')\n",
      "<class 'tuple'>\n",
      "('o', 'o', 'i')\n",
      "<class 'tuple'>\n",
      "('w', 'w', 'g')\n"
     ]
    }
   ],
   "source": [
    "nums = ['flower','flow','flight']\n",
    "# nums = [2, 4, 6, 8]\n",
    "for i in zip(nums):\n",
    "    print(type(i))\n",
    "    print(i)\n",
    "    \n",
    "print('-' * 30)\n",
    "\n",
    "for i in zip(*nums):\n",
    "    print(type(i))\n",
    "    print(i)"
   ]
  },
  {
   "cell_type": "markdown",
   "metadata": {},
   "source": [
    "We can evaluate this integral just as before, this time using function:\n",
    "\n",
    "$$\\int_0^3 3x^2 + 2x + 1\\;dx$$ \n",
    "\n",
    "We can calculate the antiderivative of $3x^2 + 2x + 1\\;dx$ as $\\frac{3}{3} x^3 + \\frac{2}{2} x^2 + x$, so:\n",
    "\n",
    "$$\\int_0^3= \\frac{3}{3} x^3 + \\frac{2}{2} x^2 + x\\ \\big|_0^3\\\\\n",
    "= \\frac{3}{3} 3^3 + \\frac{2}{2} 3^2 + 3 - \\frac{3}{3} 0^3 - \\frac{2}{2} 0^2 + 0\\\\\n",
    "= 27 + 9 + 3 + 0 + 0 + 0\\\\\n",
    "= 39$$\n",
    "\n",
    "Now, execute the code in the cell below to verify the result:"
   ]
  },
  {
   "cell_type": "code",
   "execution_count": 58,
   "metadata": {},
   "outputs": [
    {
     "name": "stdout",
     "output_type": "stream",
     "text": [
      "38.99999999999999 4.3298697960381095e-13 39.000000000000426\n"
     ]
    }
   ],
   "source": [
    "import scipy.integrate as integrate\n",
    "i, e = integrate.quad(lambda x: 3 * x**2 + 2 * x + 1, 0, 3)\n",
    "print(i, e, i + e)"
   ]
  },
  {
   "cell_type": "markdown",
   "metadata": {},
   "source": [
    "Note that the result from the ***scipy.integrate.quad*** function is approximate - the function actually returns an estimated integral (*i* in this case) and also a measure of absolute error (*e*). Run the following code to see what the absolute error was in this case:"
   ]
  },
  {
   "cell_type": "code",
   "execution_count": 59,
   "metadata": {},
   "outputs": [
    {
     "name": "stdout",
     "output_type": "stream",
     "text": [
      "4.3298697960381095e-13\n"
     ]
    }
   ],
   "source": [
    "print(e)"
   ]
  },
  {
   "cell_type": "markdown",
   "metadata": {},
   "source": [
    "The absolute error in this case is extremely small (around $4.3 \\times 10^{-13}$).\n",
    "\n",
    "## Infinite limits\n",
    "\n",
    "In many cases the limits of an integral can be $+/- \\infty$. Perhaps surprisingly, this situation is not really a problem if the function being integrated converges to $0$ at the infinite limit. \n",
    "\n",
    "Here is an example. The function $e^{-5x} \\rightarrow 0$ as $x \\rightarrow \\infty$. Therefore, the integral of this function from some limit to $\\infty$. This integral can be written as follows:\n",
    "\n",
    "$$\\int^{\\infty}_0 e^{-5x} dx$$\n",
    "\n",
    "The code in the cell below computes this integral numerically."
   ]
  },
  {
   "cell_type": "code",
   "execution_count": 60,
   "metadata": {},
   "outputs": [
    {
     "name": "stdout",
     "output_type": "stream",
     "text": [
      "inf\n",
      "Integral: 0.20000000000000004\n",
      "Absolute Error: 1.560666695201394e-11\n"
     ]
    }
   ],
   "source": [
    "import numpy as np\n",
    "i, e = integrate.quad(lambda x: np.exp(-x*5), 0, np.inf)\n",
    "print(np.inf)\n",
    "print('Integral: ' + str(i))\n",
    "print('Absolute Error: ' + str(e))"
   ]
  },
  {
   "cell_type": "markdown",
   "metadata": {},
   "source": [
    "This integral converges to a small number with a much smaller error estimate. \n",
    "\n",
    "Here is another example that illustrates why having infinite integration limits is so useful. When computing probabilities it is often necessary to have infinite limits. Don't worry too much about the details of probability theory. This is covered in a later lesson. \n",
    "\n",
    "A Normal distribution with zero mean and a standard deviation of $1$ has the following density function:\n",
    "\n",
    "$$\\frac{1}{2 \\pi} e^{\\frac{-x^2}{\\sqrt(2 \\pi)}}$$\n",
    "\n",
    "It makes sense that the integral of this probability density function from $-\\infty$ to $\\infty$ must be $1.0$. In other words the probability of a Normally distributed event ocurring at all possible values must be $1.0$. \n",
    "\n",
    "The code in the cell below computes the following integral:\n",
    "\n",
    "$$\\int_{-\\infty}^{\\infty} \\frac{1}{2 \\pi} e^{\\frac{-x^2}{\\sqrt(2 \\pi)}} dx$$\n",
    "\n",
    "Execute this code and verify that the result is approximately $1.0$."
   ]
  },
  {
   "cell_type": "code",
   "execution_count": 61,
   "metadata": {},
   "outputs": [
    {
     "name": "stdout",
     "output_type": "stream",
     "text": [
      "Integral: 1.0000004223321999\n",
      "Absolute Error: 1.0178195684860144e-08\n"
     ]
    }
   ],
   "source": [
    "import numpy as np\n",
    "norms = lambda x: np.exp(-x**2/2.0) / np.sqrt(2.0 * 3.14159)\n",
    "i, e = integrate.quad(norms, -np.inf, np.inf)\n",
    "\n",
    "print('Integral: ' + str(i))\n",
    "print('Absolute Error: ' + str(e))"
   ]
  }
 ],
 "metadata": {
  "anaconda-cloud": {},
  "kernelspec": {
   "display_name": "Python 3",
   "language": "python",
   "name": "python3"
  },
  "language_info": {
   "codemirror_mode": {
    "name": "ipython",
    "version": 3
   },
   "file_extension": ".py",
   "mimetype": "text/x-python",
   "name": "python",
   "nbconvert_exporter": "python",
   "pygments_lexer": "ipython3",
   "version": "3.8.3"
  }
 },
 "nbformat": 4,
 "nbformat_minor": 1
}
